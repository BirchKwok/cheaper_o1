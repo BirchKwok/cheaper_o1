{
 "cells": [
  {
   "cell_type": "markdown",
   "id": "126e870e-2bd1-4c73-b5bc-e3a4535a437b",
   "metadata": {},
   "source": [
    "Open jupyter in this project directory / 在本项目目录下打开jupyter\n",
    "\n",
    "\n",
    "## Set your Zhipu AI api key / 设置你的智谱AI api key"
   ]
  },
  {
   "cell_type": "markdown",
   "id": "4ffc1f17-f804-4115-92e2-44464eaf3660",
   "metadata": {},
   "source": [
    "The following api key are examples only / 下列api key仅为示例"
   ]
  },
  {
   "cell_type": "code",
   "execution_count": 1,
   "id": "36909f77",
   "metadata": {
    "execution": {
     "iopub.execute_input": "2024-09-20T15:34:50.092585Z",
     "iopub.status.busy": "2024-09-20T15:34:50.091916Z",
     "iopub.status.idle": "2024-09-20T15:34:50.099855Z",
     "shell.execute_reply": "2024-09-20T15:34:50.099073Z",
     "shell.execute_reply.started": "2024-09-20T15:34:50.092545Z"
    }
   },
   "outputs": [],
   "source": [
    "# %%writefile api_key\n",
    "# auhdjd118333.8188113111api"
   ]
  },
  {
   "cell_type": "code",
   "execution_count": 3,
   "id": "ed2a013b-fb48-4f19-8a92-5c778f716554",
   "metadata": {
    "execution": {
     "iopub.execute_input": "2024-09-20T16:39:14.518676Z",
     "iopub.status.busy": "2024-09-20T16:39:14.517766Z",
     "iopub.status.idle": "2024-09-20T16:39:53.042075Z",
     "shell.execute_reply": "2024-09-20T16:39:53.040763Z",
     "shell.execute_reply.started": "2024-09-20T16:39:14.518614Z"
    }
   },
   "outputs": [
    {
     "data": {
      "text/markdown": [
       "**Problem** / **问题**"
      ],
      "text/plain": [
       "<IPython.core.display.Markdown object>"
      ]
     },
     "metadata": {},
     "output_type": "display_data"
    },
    {
     "data": {
      "text/markdown": [
       "9.11 or 9.8, which is bigger? Answer in English"
      ],
      "text/plain": [
       "<IPython.core.display.Markdown object>"
      ]
     },
     "metadata": {},
     "output_type": "display_data"
    },
    {
     "data": {
      "text/html": [
       "\n",
       "    <details>\n",
       "        <summary><strong>Initial Analysis / 初步分析</strong></summary>\n",
       "        <div class=\"markdown-content\">\n",
       "<analysis>\n",
       "    <step>步骤1：比较两个数字的整数部分</step>\n",
       "    <step>步骤2：如果整数部分相同，则比较小数部分的第一位</step>\n",
       "    <step>步骤3：根据比较结果确定哪个数字更大</step>\n",
       "</analysis>\n",
       "        </div>\n",
       "    </details>\n",
       "    <script>\n",
       "    renderMarkdown();\n",
       "    </script>\n",
       "    "
      ],
      "text/plain": [
       "<IPython.core.display.HTML object>"
      ]
     },
     "metadata": {},
     "output_type": "display_data"
    },
    {
     "data": {
      "text/html": [
       "\n",
       "    <details>\n",
       "        <summary><strong>Step 1 Result (Attempt 1) / 步骤 1 结果 (尝试 1) :  比较两个数字的整数部分</strong></summary>\n",
       "        <div class=\"markdown-content\">\n",
       "步骤1：比较两个数字的整数部分\n",
       "\n",
       "首先，我们来看两个数字9.11和9.8的整数部分。9.11的整数部分是9，9.8的整数部分也是9。因此，它们的整数部分是相同的。\n",
       "\n",
       "结果：9.11和9.8的整数部分都是9。\n",
       "        </div>\n",
       "    </details>\n",
       "    <script>\n",
       "    renderMarkdown();\n",
       "    </script>\n",
       "    "
      ],
      "text/plain": [
       "<IPython.core.display.HTML object>"
      ]
     },
     "metadata": {},
     "output_type": "display_data"
    },
    {
     "data": {
      "text/html": [
       "\n",
       "    <details>\n",
       "        <summary><strong>Step 2 Result (Attempt 1) / 步骤 2 结果 (尝试 1) :  如果整数部分相同，则比较小数部分的第一位</strong></summary>\n",
       "        <div class=\"markdown-content\">\n",
       "步骤2：比较小数部分的第一位\n",
       "\n",
       "根据步骤描述，我们需要比较9.11和9.8的小数部分的第一位数字。9.11的小数部分是0.11，第一位是1；9.8的小数部分是0.8，第一位是8。\n",
       "\n",
       "由于8大于1，我们可以确定9.8大于9.11。\n",
       "\n",
       "结果：9.8是比9.11大的数。\n",
       "        </div>\n",
       "    </details>\n",
       "    <script>\n",
       "    renderMarkdown();\n",
       "    </script>\n",
       "    "
      ],
      "text/plain": [
       "<IPython.core.display.HTML object>"
      ]
     },
     "metadata": {},
     "output_type": "display_data"
    },
    {
     "data": {
      "text/html": [
       "\n",
       "    <details>\n",
       "        <summary><strong>Step 3 Result (Attempt 1) / 步骤 3 结果 (尝试 1) :  根据比较结果确定哪个数字更大</strong></summary>\n",
       "        <div class=\"markdown-content\">\n",
       "步骤3：根据比较结果确定哪个数字更大\n",
       "\n",
       "根据提供的信息，我们可以直接比较两个数字9.11和9.8。比较的步骤如下：\n",
       "\n",
       "1. 首先比较整数部分，9.11和9.8的整数部分都是9，相同。\n",
       "2. 然后比较小数部分的第一位，9.11的小数部分是0.11，而9.8的小数部分是0.8。\n",
       "3. 在小数部分的第一位上，8大于1，因此9.8大于9.11。\n",
       "\n",
       "结果：9.8是比9.11更大的数字。\n",
       "        </div>\n",
       "    </details>\n",
       "    <script>\n",
       "    renderMarkdown();\n",
       "    </script>\n",
       "    "
      ],
      "text/plain": [
       "<IPython.core.display.HTML object>"
      ]
     },
     "metadata": {},
     "output_type": "display_data"
    },
    {
     "data": {
      "text/html": [
       "\n",
       "    <details>\n",
       "        <summary><strong>Final Reasoning (Attempt 1) / 最终推理 (尝试 1)</strong></summary>\n",
       "        <div class=\"markdown-content\">\n",
       "Based on the comprehensive analysis of the steps provided:\n",
       "\n",
       "1. Both numbers, 9.11 and 9.8, have the same integer part, which is 9.\n",
       "2. When comparing the first digit of the decimal part, 9.11 has a first decimal digit of 1, while 9.8 has a first decimal digit of 8.\n",
       "3. Since 8 is greater than 1, it is concluded that 9.8 is larger than 9.11.\n",
       "\n",
       "Therefore, the final inference is that 9.8 is the bigger number between 9.11 and 9.8.\n",
       "        </div>\n",
       "    </details>\n",
       "    <script>\n",
       "    renderMarkdown();\n",
       "    </script>\n",
       "    "
      ],
      "text/plain": [
       "<IPython.core.display.HTML object>"
      ]
     },
     "metadata": {},
     "output_type": "display_data"
    },
    {
     "data": {
      "text/html": [
       "\n",
       "    <details>\n",
       "        <summary><strong>Judgment (Attempt 1) / 判断 (尝试 1)</strong></summary>\n",
       "        <div class=\"markdown-content\">\n",
       "结果正确。\n",
       "\n",
       "根据提供的分析和步骤，我们比较了9.11和9.8这两个数字。首先，它们的整数部分都是9，相同。然后，我们比较了小数部分的第一位，9.11的小数部分是0.11，第一位是1；而9.8的小数部分是0.8，第一位是8。由于8大于1，因此可以确定9.8大于9.11。\n",
       "\n",
       "最终推理结果是9.8比9.11大。这个推理过程是逻辑清晰的，没有发现需要进一步迭代的地方。\n",
       "        </div>\n",
       "    </details>\n",
       "    <script>\n",
       "    renderMarkdown();\n",
       "    </script>\n",
       "    "
      ],
      "text/plain": [
       "<IPython.core.display.HTML object>"
      ]
     },
     "metadata": {},
     "output_type": "display_data"
    },
    {
     "data": {
      "text/markdown": [
       "**Final Answer** / **最终答案**"
      ],
      "text/plain": [
       "<IPython.core.display.Markdown object>"
      ]
     },
     "metadata": {},
     "output_type": "display_data"
    },
    {
     "data": {
      "text/markdown": [
       "The bigger number is 9.8."
      ],
      "text/plain": [
       "<IPython.core.display.Markdown object>"
      ]
     },
     "metadata": {},
     "output_type": "display_data"
    }
   ],
   "source": [
    "from cheaper_o1 import solve_problem_advanced\n",
    "\n",
    "thought_chain = solve_problem_advanced(\"9.11 or 9.8, which is bigger? Answer in English\")"
   ]
  },
  {
   "cell_type": "code",
   "execution_count": null,
   "id": "48b40f28-d20a-4a05-a00b-85109735eedb",
   "metadata": {},
   "outputs": [],
   "source": []
  }
 ],
 "metadata": {
  "kernelspec": {
   "display_name": "Python 3 (ipykernel)",
   "language": "python",
   "name": "python3"
  },
  "language_info": {
   "codemirror_mode": {
    "name": "ipython",
    "version": 3
   },
   "file_extension": ".py",
   "mimetype": "text/x-python",
   "name": "python",
   "nbconvert_exporter": "python",
   "pygments_lexer": "ipython3",
   "version": "3.10.13"
  }
 },
 "nbformat": 4,
 "nbformat_minor": 5
}
